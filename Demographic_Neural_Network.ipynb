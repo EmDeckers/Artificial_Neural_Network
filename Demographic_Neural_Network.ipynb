{
  "nbformat": 4,
  "nbformat_minor": 0,
  "metadata": {
    "colab": {
      "provenance": []
    },
    "kernelspec": {
      "name": "python3",
      "display_name": "Python 3"
    },
    "language_info": {
      "name": "python"
    }
  },
  "cells": [
    {
      "cell_type": "markdown",
      "source": [
        "# Artificial Neural Network Analysis On Shopping Behaviors"
      ],
      "metadata": {
        "id": "oaIe_S6RS0Hd"
      }
    },
    {
      "cell_type": "markdown",
      "source": [
        "### The Problem \n",
        "A company with both a brick-and-mortar store and an online store wants to improve customer retention rates and incentivise current customers to make future purchases from their physical location. They plan to achieve this by offering customers who are currently checking out on their website a \"*40% Off Your Next Purchase*\" coupon only redeemable for in-store purchases.\n",
        "\n",
        "Given a dataset with information on customers who have previously made a purchase from the store, determine if a customer who is currently checking out on the company's website is likely to make a future purchase in store. If they are more likely to make a future purchase in store, the company will email them the coupon to incentivise them to come into the store next time instead.\n"
      ],
      "metadata": {
        "id": "bm6rwtvzU1QA"
      }
    },
    {
      "cell_type": "code",
      "source": [
        "import tensorflow as tf\n",
        "import pandas as pd\n",
        "import numpy as np\n",
        "import matplotlib.pyplot as plt "
      ],
      "metadata": {
        "id": "lTrVGslqUeWD"
      },
      "execution_count": null,
      "outputs": []
    },
    {
      "cell_type": "markdown",
      "source": [
        "# Data Preprocessing"
      ],
      "metadata": {
        "id": "-xn00MT5Sr52"
      }
    },
    {
      "cell_type": "markdown",
      "source": [
        "First, note that the categorical variable \"region\" has already been preprocessed by the owner of the dataset. The author has not defined what actual geographic location corresponds to which region code, so in the “Initial Observations” section of the tutorial, I will be making generalizations about these regions.\n",
        "\n",
        "\n",
        "Secondly, the independent variable \"in.store\" takes two values: 0 and 1. Let us denote 0 for a purchase made online and 1 for a purchase made in store.\n",
        "\n",
        "\n",
        "Lastly, please note that I have omitted the columns \"ip.address\" and \"full.name\" from the implementation of the model. While it is entirely possible to categorize data entries by geographic location using the provided IP address, when considering the number of entries in the dataset (80,000) and the number of possible IP address regions (in the thousands, if not tens of thousands) it was simply too tedious to sort through all the IP addresses and categorize them for the purpose of this tutorial. Similarly, it is possible to categorize customers into gendered groups, but with such diversity of names, it was not practical to categorize the customers within a reasonable timeframe. Part of this decision was also rooted in caution because I did not want to accidentally misgender a customer. A solution to these issues is provided in the analysis section.\n"
      ],
      "metadata": {
        "id": "mqX0M36MU-PR"
      }
    },
    {
      "cell_type": "code",
      "source": [
        "dataset = pd.read_csv('Demographic_Data.csv');\n",
        "dataset[dataset.isna().any(axis=1)].fillna(np.nan);\n",
        "\n",
        "X = dataset.iloc[:, [3,5,6,7]];\n",
        "y = dataset.iloc[:, 4];"
      ],
      "metadata": {
        "id": "xS_5Dvi6xWoY"
      },
      "execution_count": null,
      "outputs": []
    },
    {
      "cell_type": "code",
      "source": [
        "print(X.iloc[:10, :]);"
      ],
      "metadata": {
        "colab": {
          "base_uri": "https://localhost:8080/"
        },
        "id": "0j-151m6cfUb",
        "outputId": "6c71fce2-9272-4093-9772-624f2f56c94e"
      },
      "execution_count": null,
      "outputs": [
        {
          "output_type": "stream",
          "name": "stdout",
          "text": [
            "   region  age  items     amount\n",
            "0       2   37      4   281.0300\n",
            "1       2   35      2   219.5100\n",
            "2       4   45      3  1525.7000\n",
            "3       3   46      3   715.2500\n",
            "4       1   33      4  1937.5000\n",
            "5       4   24      3  1314.2000\n",
            "6       2   43      6     8.5472\n",
            "7       3   66      5   819.9800\n",
            "8       1   51      5   908.3100\n",
            "9       1   47      3   767.5400\n"
          ]
        }
      ]
    },
    {
      "cell_type": "code",
      "source": [
        "print(y.iloc[:10]);"
      ],
      "metadata": {
        "colab": {
          "base_uri": "https://localhost:8080/"
        },
        "id": "4lu05MXrkqr0",
        "outputId": "5fdd6288-b5e1-47f8-eeb0-396156cb4ead"
      },
      "execution_count": null,
      "outputs": [
        {
          "output_type": "stream",
          "name": "stdout",
          "text": [
            "0    0\n",
            "1    0\n",
            "2    1\n",
            "3    1\n",
            "4    1\n",
            "5    0\n",
            "6    0\n",
            "7    1\n",
            "8    1\n",
            "9    1\n",
            "Name: in.store, dtype: int64\n"
          ]
        }
      ]
    },
    {
      "cell_type": "markdown",
      "source": [
        "### Splitting The Data Into Train and Test Sets "
      ],
      "metadata": {
        "id": "OSO61WDMzt6o"
      }
    },
    {
      "cell_type": "code",
      "source": [
        "from sklearn.model_selection import train_test_split\n",
        "X_train, X_test, y_train, y_test = train_test_split(X, y, test_size = 0.2);"
      ],
      "metadata": {
        "id": "Hz1A3EkZzemJ"
      },
      "execution_count": null,
      "outputs": []
    },
    {
      "cell_type": "markdown",
      "source": [
        "### Feature Scaling "
      ],
      "metadata": {
        "id": "AXvjzgKjSlqd"
      }
    },
    {
      "cell_type": "code",
      "source": [
        "from sklearn.preprocessing import StandardScaler\n",
        "scaler = StandardScaler();\n",
        "X_train = scaler.fit_transform(X_train);\n",
        "X_test = scaler.fit_transform(X_test);"
      ],
      "metadata": {
        "id": "h0MQXJSoRKAq"
      },
      "execution_count": null,
      "outputs": []
    },
    {
      "cell_type": "markdown",
      "source": [
        "# Initial Observations "
      ],
      "metadata": {
        "id": "AilNe3D7qU9W"
      }
    },
    {
      "cell_type": "markdown",
      "source": [
        "Before training the neural network, I will use the given data to make initial predictions about the relationship between the features and whether or not a customer will purchase in store or online. "
      ],
      "metadata": {
        "id": "A2z0eiMPqYbn"
      }
    },
    {
      "cell_type": "code",
      "source": [
        "# Calculating the total number of customers from each region who made a purchase in store\n",
        "region_count = np.zeros(4);\n",
        "\n",
        "for i in range(len(y)):\n",
        "  if y[i] == 1:\n",
        "    if X.iloc[i, 0] == 1:\n",
        "      region_count[0] = region_count[0] + 1;\n",
        "    elif X.iloc[i, 0] == 2:\n",
        "      region_count[1] = region_count[1] + 1;\n",
        "    elif X.iloc[i, 0] == 3:\n",
        "      region_count[2] = region_count[2] + 1;\n",
        "    elif X.iloc[i, 0] == 4:\n",
        "      region_count[3] = region_count[3] + 1;"
      ],
      "metadata": {
        "id": "I_GXWiaaqYtZ"
      },
      "execution_count": null,
      "outputs": []
    },
    {
      "cell_type": "code",
      "source": [
        "# Calculating the average age of customers in each region \n",
        "total_age = np.zeros(4)\n",
        "count = np.zeros(4)\n",
        "\n",
        "for i in range(len(y)):\n",
        "    if X.iloc[i, 0] == 1:\n",
        "      total_age[0] = total_age[0] + X.iloc[i,1];\n",
        "      count[0] = count[0] + 1;\n",
        "    elif X.iloc[i, 0] == 2:\n",
        "      total_age[1] = total_age[1] + X.iloc[i,1];\n",
        "      count[1] = count[1] + 1;\n",
        "    elif X.iloc[i, 0] == 3:\n",
        "      total_age[2] = total_age[2] + X.iloc[i,1];\n",
        "      count[2] = count[2] + 1;\n",
        "    elif X.iloc[i, 0] == 4:\n",
        "      total_age[3] = total_age[3] + X.iloc[i,1];\n",
        "      count[3] = count[3] + 1;\n",
        "\n",
        "average_age = np.zeros(4)\n",
        "for i in range(4):\n",
        "  average_age[i] = total_age[i] / count[i]\n",
        "\n",
        "print(average_age)"
      ],
      "metadata": {
        "colab": {
          "base_uri": "https://localhost:8080/"
        },
        "id": "_jfnYaYUxl5f",
        "outputId": "823b2680-9623-4baf-f18c-4d5574007c20"
      },
      "execution_count": null,
      "outputs": [
        {
          "output_type": "stream",
          "name": "stdout",
          "text": [
            "[43.7039375  56.61035    45.64694444 38.75073077]\n"
          ]
        }
      ]
    },
    {
      "cell_type": "code",
      "source": [
        "# Graphing the number of purchases made in store by region \n",
        "labels = 'Region 1 {Avg Age: 44}', 'Region 2 {Avg Age: 57}', 'Region 3 {Avg Age: 46}', 'Region 4 {Avg Age: 39}'\n",
        "sizes = [region_count[0], region_count[1], region_count[2], region_count[3]]\n",
        "\n",
        "fig1, ax1 = plt.subplots()\n",
        "ax1.pie(sizes, labels=labels, counterclock=False, autopct='%1.1f%%', startangle=90)\n",
        "ax1.axis('equal')  # Equal aspect ratio ensures that pie is drawn as a circle.\n",
        "plt.title(\"Purchases Made In Store\")\n",
        "plt.show()"
      ],
      "metadata": {
        "colab": {
          "base_uri": "https://localhost:8080/",
          "height": 265
        },
        "id": "mVB4gPMeq2-K",
        "outputId": "b5f5c6a7-cea1-4435-b49a-76670db63e4a"
      },
      "execution_count": null,
      "outputs": [
        {
          "output_type": "display_data",
          "data": {
            "text/plain": [
              "<Figure size 432x288 with 1 Axes>"
            ],
            "image/png": "[encoded data removed]"
          },
          "metadata": {}
        }
      ]
    },
    {
      "cell_type": "markdown",
      "source": [
        "After this initial analysis, we notice the people living in regions 1, 3 and 4 make up the entirety of purchases made in store, and no members of region 2 made purchases in store. It is possible that region 2 is located geographically distant from the physical store, disincentivizing people of region 2 from making purchases in store. We may also notice that people living in region 2 are also the oldest on average. This could be indicative of preference in shopping habits based on age."
      ],
      "metadata": {
        "id": "o5Z7OEhLvyg4"
      }
    },
    {
      "cell_type": "markdown",
      "source": [
        "# Building The Artificial Network "
      ],
      "metadata": {
        "id": "W0EXJc9FZmbk"
      }
    },
    {
      "cell_type": "markdown",
      "source": [
        "In this section I will create the Artificial Neural Network. The input layer and any proceeding layers (excluding the output layer) will have an activation function of the Rectifier type. The output layer will have an activation function of the Sigmoid type.\n",
        "\n",
        "\n",
        "The first iteration of the for loop adds the input layer and first hidden layer. Any additional iterations of the loop will add additional hidden layers. A final output layer will be created outside the for loop because this layer has a different activation function type. The number of hidden layers as well as the dimension of the output will be experimented with and the results will be summarized in the \"Summary of Test Results\" section at the end of the “Training The Artificial Network” section. The dimension of the output layer is set to 1 because the desired output of the model (whether a person will purchase online or in store) is represented in binary form. "
      ],
      "metadata": {
        "id": "3eXHWMmhdcJ5"
      }
    },
    {
      "cell_type": "code",
      "source": [
        "ANN = tf.keras.models.Sequential(); \n",
        "Layers = tf.keras.layers;"
      ],
      "metadata": {
        "id": "zvCVc3OXUv5W"
      },
      "execution_count": null,
      "outputs": []
    },
    {
      "cell_type": "code",
      "source": [
        "layer_count = 2; # controls number of layers in the neural network\n",
        "dimension = 6; # controls dimension of the output space of the hidden layers\n",
        "\n",
        "for i in range(layer_count):\n",
        "  ANN.add(Layers.Dense(units=dimension, activation='relu'));\n",
        "\n",
        "ANN.add(Layers.Dense(units=1, activation='sigmoid'));"
      ],
      "metadata": {
        "id": "MagnxYpgRLsD"
      },
      "execution_count": null,
      "outputs": []
    },
    {
      "cell_type": "markdown",
      "source": [
        "# Training The Artificial Network"
      ],
      "metadata": {
        "id": "uP9kDvHFge1c"
      }
    },
    {
      "cell_type": "markdown",
      "source": [
        "In this section, I will train the artificial neural network. Here, I have chosen the Adam optimization method because of its effective use of the stochastic gradient descent method on less complex sets of data. Because the desired output of the network is in binary, I have chosen the loss function to be binary cross entropy. Finally, I have chosen the ‘accuracy’ metric because the accuracy metric calculates the frequency in which y_pred matches y_true and this frequency is returned as binary accuracy."
      ],
      "metadata": {
        "id": "mbv2W1Z-ijgA"
      }
    },
    {
      "cell_type": "code",
      "source": [
        "ANN.compile(optimizer='adam', loss='binary_crossentropy', metrics=['accuracy']);"
      ],
      "metadata": {
        "id": "3E7X4oSvRMB6"
      },
      "execution_count": null,
      "outputs": []
    },
    {
      "cell_type": "code",
      "source": [
        "ANN.fit(X_train, y_train, batch_size=500, epochs=1000);"
      ],
      "metadata": {
        "id": "jGv0vIzmRMLd"
      },
      "execution_count": null,
      "outputs": []
    },
    {
      "cell_type": "markdown",
      "source": [
        "### Summary of Test Results"
      ],
      "metadata": {
        "id": "D_IbmQzM0Vb3"
      }
    },
    {
      "cell_type": "markdown",
      "source": [
        "- Layer Count: 3,\n",
        "Dimension: 6,\n",
        "Batch size: 500,\n",
        "Epochs: 1000,\n",
        "Training Time: 6 mins,\n",
        "Final Loss: 22.6%\n",
        "Final accuracy: 88.62%\n",
        "\n",
        "- Layer Count: 3,\n",
        "Dimension: 7,\n",
        "Batch size: 500,\n",
        "Epochs: 1000,\n",
        "Training Time: 4 mins,\n",
        "Final Loss: 22.67%\n",
        "Final accuracy: 88.63%\n",
        "\n",
        "- Layer Count: 3,\n",
        "Dimension: 8,\n",
        "Batch size: 500,\n",
        "Epochs: 1000,\n",
        "Training Time: 8 mins,\n",
        "Final Loss: 22.74%\n",
        "Final accuracy: 88.62%\n",
        "\n",
        "- Layer Count: 4,\n",
        "Dimension: 7,\n",
        "Batch size: 500,\n",
        "Epochs: 1000,\n",
        "Training Time: 9 mins,\n",
        "Final Loss: 22.66%\n",
        "Final accuracy: 88.54%\n",
        "\n",
        "- Layer Count: 4,\n",
        "Dimension: 7,\n",
        "Batch size: 250,\n",
        "Epochs: 500,\n",
        "Training Time: 8 mins,\n",
        "Final Loss: 69.32%\n",
        "Final accuracy: 49.76%. \n",
        "(Not sure what happened here, I possibly had some internet connectivity issues.) \n",
        "\n",
        "- Layer Count: 3,\n",
        "Dimension: 6,\n",
        "Batch size: 500,\n",
        "Epochs: 1000,\n",
        "Training Time: 7 mins,\n",
        "Final Loss: 22.54%%\n",
        "Final accuracy: 88.70%\n",
        "\n",
        "- Layer Count: 2,\n",
        "Dimension: 6,\n",
        "Batch size: 500,\n",
        "Epochs: 1000,\n",
        "Training Time: 7 mins,\n",
        "Final Loss: 22.94%%\n",
        "Final accuracy: 88.49%\n",
        "\n",
        "Through all the trials, the results hardly differed with changing inputs. I will be staying with settings of the last trial because it has similar results to the other trials, the model trains fairly quickly, and the settings resulted in the highest accuracy rate. "
      ],
      "metadata": {
        "id": "dkgcC1xkg0tY"
      }
    },
    {
      "cell_type": "markdown",
      "source": [
        "# Predicting The Test Set Results "
      ],
      "metadata": {
        "id": "8oNfvE1z0Y3-"
      }
    },
    {
      "cell_type": "code",
      "source": [
        "y_pred = ANN.predict(X_test);\n",
        "y_pred = (y_pred > 0.5); # converts probabilities into boolean binary outcome \n",
        "y_test = (y_test > 0.5);"
      ],
      "metadata": {
        "colab": {
          "base_uri": "https://localhost:8080/"
        },
        "id": "SSClN_Gb1G7V",
        "outputId": "14f74175-2a49-4d35-bc48-8cd0aa1a8ba5"
      },
      "execution_count": null,
      "outputs": [
        {
          "output_type": "stream",
          "name": "stdout",
          "text": [
            "500/500 [==============================] - 1s 1ms/step\n"
          ]
        }
      ]
    },
    {
      "cell_type": "markdown",
      "source": [
        "## Confusion Matrix and Accuracy of the Network Model"
      ],
      "metadata": {
        "id": "0pS_uUM03Yp5"
      }
    },
    {
      "cell_type": "code",
      "source": [
        "from sklearn.metrics import confusion_matrix, accuracy_score\n",
        "cm = confusion_matrix(y_test, y_pred);\n",
        "print(cm);"
      ],
      "metadata": {
        "colab": {
          "base_uri": "https://localhost:8080/"
        },
        "id": "lv1nOUIC3Tpx",
        "outputId": "ad447f15-f0a3-48fb-e336-42ed69038238"
      },
      "execution_count": null,
      "outputs": [
        {
          "output_type": "stream",
          "name": "stdout",
          "text": [
            "[[6173 1798]\n",
            " [  18 8011]]\n"
          ]
        }
      ]
    },
    {
      "cell_type": "code",
      "source": [
        "print(accuracy_score(y_test, y_pred));"
      ],
      "metadata": {
        "colab": {
          "base_uri": "https://localhost:8080/"
        },
        "id": "cFPDqmTz5RLE",
        "outputId": "cb67d294-365d-4ac5-c14f-79ee047c0b21"
      },
      "execution_count": null,
      "outputs": [
        {
          "output_type": "stream",
          "name": "stdout",
          "text": [
            "0.8865\n"
          ]
        }
      ]
    },
    {
      "cell_type": "markdown",
      "source": [
        "The accuracy of this model ranges from 80% - 90%."
      ],
      "metadata": {
        "id": "DVCiexoHKpPS"
      }
    },
    {
      "cell_type": "markdown",
      "source": [
        "# Making Future Predictions "
      ],
      "metadata": {
        "id": "MKw2OCGYpCwa"
      }
    },
    {
      "cell_type": "markdown",
      "source": [
        "The company has gathered information on customers who are currently checking out on their website and wants to determine which customers to email the coupon:"
      ],
      "metadata": {
        "id": "G5Ua6tZX6hM6"
      }
    },
    {
      "cell_type": "code",
      "source": [
        "customers = pd.read_csv('Future_Customers.csv');\n",
        "x = customers.iloc[:, 2:];\n",
        "x = scaler.fit_transform(x);"
      ],
      "metadata": {
        "id": "eQMWfZBiRMhA"
      },
      "execution_count": null,
      "outputs": []
    },
    {
      "cell_type": "code",
      "source": [
        "print(customers.iloc[:, 1]);"
      ],
      "metadata": {
        "colab": {
          "base_uri": "https://localhost:8080/"
        },
        "id": "KfcYX41jEieC",
        "outputId": "728fb621-15bd-426a-d7a9-fd3c6147d6fb"
      },
      "execution_count": null,
      "outputs": [
        {
          "output_type": "stream",
          "name": "stdout",
          "text": [
            "0      Kaitlin Terry\n",
            "1      Wilson Crooks\n",
            "2      Nell Parisian\n",
            "3         Portia Von\n",
            "4       Kareen Wyman\n",
            "5    Daniel Saunders\n",
            "6        Nate Kappus\n",
            "7        Summer Howe\n",
            "8         Jill King \n",
            "9       Patrick Kihn\n",
            "Name: full.name, dtype: object\n"
          ]
        }
      ]
    },
    {
      "cell_type": "code",
      "source": [
        "print(ANN.predict(x) > 0.5);"
      ],
      "metadata": {
        "colab": {
          "base_uri": "https://localhost:8080/"
        },
        "id": "Aeehst8QpJY6",
        "outputId": "e2380b0b-ffef-4b52-e851-2803ff4465c7"
      },
      "execution_count": null,
      "outputs": [
        {
          "output_type": "stream",
          "name": "stdout",
          "text": [
            "1/1 [==============================] - 0s 122ms/step\n",
            "[[False]\n",
            " [False]\n",
            " [ True]\n",
            " [ True]\n",
            " [ True]\n",
            " [False]\n",
            " [False]\n",
            " [False]\n",
            " [ True]\n",
            " [ True]]\n"
          ]
        }
      ]
    },
    {
      "cell_type": "markdown",
      "source": [
        "According to our model's predictions, we should email Nell Parisian, Portia Von, Kareen Wyman, Jill King, and Patrick Kihn the coupon. "
      ],
      "metadata": {
        "id": "hjN41Go7Ec5y"
      }
    },
    {
      "cell_type": "markdown",
      "source": [
        "# Analysis and Summary "
      ],
      "metadata": {
        "id": "_5M_HmMk6zmc"
      }
    },
    {
      "cell_type": "markdown",
      "source": [
        "## Summary \n",
        "For a first implementation, this model performed at a higher level than expected.\n",
        "\n",
        "\n",
        "In the \"Initial Observations\" section of the tutorial, I explored any pre-existing biases in the data and drew conclusions.\n",
        "\n",
        "\n",
        "After building the model, I performed several experiments to determine the highest performing parameters in which to train the model. Through experimentation, I determined that the number of hidden layers and the dimension of the output space had little effect on the final results. If I were to increase the number of epochs, I believe that the accuracy of the model could improve. However, considering the model already performs with an excellent accuracy rate and trains in less than 10 minutes, I will leave the model as is.\n",
        "\n",
        "\n",
        "After training the model, I used data that I had set aside for testing to build a confusion matrix and test the accuracy of the model. I then used new data to make predictions on whether or not the company should email a customer a coupon.\n",
        "\n",
        "\n",
        "### Biases\n",
        "The objective goal of this tutorial contains a hidden bias that was not addressed: if a customer is already checking out on the company’s website, it is likely they have the preference to shop online in the future. In a future implementation of this model, this bias could be addressed by adding a new feature to the dataset: a feature that counts the number of online purchases a customer has made in the past, if any. \n",
        "\n",
        "\n",
        "It is possible that gender has an influence on whether or not a customer is likely to purchase in store or online. In a future implementation, this idea could be explored by collecting more data on the customers and asking them to provide their pronouns to allow for proper gender categorization.\n",
        "\n",
        "\n",
        "The IP address of a customer contains valuable information that was not included in the implementation of the model; it contains information on a customer’s geographic location. In a future implementation, it would be worth taking the time to sort and categorize customers based on their IP address and retrain the model with this information.\n",
        "\n",
        "\n",
        "As was explored in the \"Initial Observations\" section, region likely has an impact on a customers decision to shop in store. Considering the fact that zero customers from region 2 made a purchase in store, we can make an educated guess that the physical location of the store is not geographically close to region 2.\n",
        "\n",
        "\n",
        "## Conclusion\n",
        "Although the model performed with excellent accuracy, there is always room for improvement. After working with the data, I would suggest that the company collect more data on their customers preferred gender, and track the number of purchases a customer has made with the company in the past and whether those purchases were made in store or online.\n",
        "\n",
        "\n",
        "If the company is interested in increasing the number of in-store sales, they might consider opening another location in or near region 2 to incentivise customers of that region to make future purchases in store rather than online.\n",
        "\n",
        "### Credits \n",
        "Nowicki, Joseph, January 2023, \"Sales data based on demographics\", https://www.kaggle.com/datasets/thedevastator/demographical-shopping-purchases-data"
      ],
      "metadata": {
        "id": "0ihIINRFFF8E"
      }
    }
  ]
}